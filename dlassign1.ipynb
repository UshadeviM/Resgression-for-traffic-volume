{
  "nbformat": 4,
  "nbformat_minor": 0,
  "metadata": {
    "colab": {
      "provenance": []
    },
    "kernelspec": {
      "name": "python3",
      "display_name": "Python 3"
    },
    "language_info": {
      "name": "python"
    }
  },
  "cells": [
    {
      "cell_type": "code",
      "execution_count": 1,
      "metadata": {
        "colab": {
          "base_uri": "https://localhost:8080/"
        },
        "id": "sVabIBHEZtMJ",
        "outputId": "914016cc-2a57-4c8f-ba07-820d97efa6c2"
      },
      "outputs": [
        {
          "output_type": "stream",
          "name": "stdout",
          "text": [
            "Requirement already satisfied: pandas in /usr/local/lib/python3.10/dist-packages (2.1.4)\n",
            "Requirement already satisfied: numpy in /usr/local/lib/python3.10/dist-packages (1.26.4)\n",
            "Requirement already satisfied: scikit-learn in /usr/local/lib/python3.10/dist-packages (1.3.2)\n",
            "Requirement already satisfied: tensorflow in /usr/local/lib/python3.10/dist-packages (2.17.0)\n",
            "Requirement already satisfied: flask in /usr/local/lib/python3.10/dist-packages (2.2.5)\n",
            "Requirement already satisfied: python-dateutil>=2.8.2 in /usr/local/lib/python3.10/dist-packages (from pandas) (2.8.2)\n",
            "Requirement already satisfied: pytz>=2020.1 in /usr/local/lib/python3.10/dist-packages (from pandas) (2024.1)\n",
            "Requirement already satisfied: tzdata>=2022.1 in /usr/local/lib/python3.10/dist-packages (from pandas) (2024.1)\n",
            "Requirement already satisfied: scipy>=1.5.0 in /usr/local/lib/python3.10/dist-packages (from scikit-learn) (1.13.1)\n",
            "Requirement already satisfied: joblib>=1.1.1 in /usr/local/lib/python3.10/dist-packages (from scikit-learn) (1.4.2)\n",
            "Requirement already satisfied: threadpoolctl>=2.0.0 in /usr/local/lib/python3.10/dist-packages (from scikit-learn) (3.5.0)\n",
            "Requirement already satisfied: absl-py>=1.0.0 in /usr/local/lib/python3.10/dist-packages (from tensorflow) (1.4.0)\n",
            "Requirement already satisfied: astunparse>=1.6.0 in /usr/local/lib/python3.10/dist-packages (from tensorflow) (1.6.3)\n",
            "Requirement already satisfied: flatbuffers>=24.3.25 in /usr/local/lib/python3.10/dist-packages (from tensorflow) (24.3.25)\n",
            "Requirement already satisfied: gast!=0.5.0,!=0.5.1,!=0.5.2,>=0.2.1 in /usr/local/lib/python3.10/dist-packages (from tensorflow) (0.6.0)\n",
            "Requirement already satisfied: google-pasta>=0.1.1 in /usr/local/lib/python3.10/dist-packages (from tensorflow) (0.2.0)\n",
            "Requirement already satisfied: h5py>=3.10.0 in /usr/local/lib/python3.10/dist-packages (from tensorflow) (3.11.0)\n",
            "Requirement already satisfied: libclang>=13.0.0 in /usr/local/lib/python3.10/dist-packages (from tensorflow) (18.1.1)\n",
            "Requirement already satisfied: ml-dtypes<0.5.0,>=0.3.1 in /usr/local/lib/python3.10/dist-packages (from tensorflow) (0.4.0)\n",
            "Requirement already satisfied: opt-einsum>=2.3.2 in /usr/local/lib/python3.10/dist-packages (from tensorflow) (3.3.0)\n",
            "Requirement already satisfied: packaging in /usr/local/lib/python3.10/dist-packages (from tensorflow) (24.1)\n",
            "Requirement already satisfied: protobuf!=4.21.0,!=4.21.1,!=4.21.2,!=4.21.3,!=4.21.4,!=4.21.5,<5.0.0dev,>=3.20.3 in /usr/local/lib/python3.10/dist-packages (from tensorflow) (3.20.3)\n",
            "Requirement already satisfied: requests<3,>=2.21.0 in /usr/local/lib/python3.10/dist-packages (from tensorflow) (2.32.3)\n",
            "Requirement already satisfied: setuptools in /usr/local/lib/python3.10/dist-packages (from tensorflow) (71.0.4)\n",
            "Requirement already satisfied: six>=1.12.0 in /usr/local/lib/python3.10/dist-packages (from tensorflow) (1.16.0)\n",
            "Requirement already satisfied: termcolor>=1.1.0 in /usr/local/lib/python3.10/dist-packages (from tensorflow) (2.4.0)\n",
            "Requirement already satisfied: typing-extensions>=3.6.6 in /usr/local/lib/python3.10/dist-packages (from tensorflow) (4.12.2)\n",
            "Requirement already satisfied: wrapt>=1.11.0 in /usr/local/lib/python3.10/dist-packages (from tensorflow) (1.16.0)\n",
            "Requirement already satisfied: grpcio<2.0,>=1.24.3 in /usr/local/lib/python3.10/dist-packages (from tensorflow) (1.64.1)\n",
            "Requirement already satisfied: tensorboard<2.18,>=2.17 in /usr/local/lib/python3.10/dist-packages (from tensorflow) (2.17.0)\n",
            "Requirement already satisfied: keras>=3.2.0 in /usr/local/lib/python3.10/dist-packages (from tensorflow) (3.4.1)\n",
            "Requirement already satisfied: tensorflow-io-gcs-filesystem>=0.23.1 in /usr/local/lib/python3.10/dist-packages (from tensorflow) (0.37.1)\n",
            "Requirement already satisfied: Werkzeug>=2.2.2 in /usr/local/lib/python3.10/dist-packages (from flask) (3.0.4)\n",
            "Requirement already satisfied: Jinja2>=3.0 in /usr/local/lib/python3.10/dist-packages (from flask) (3.1.4)\n",
            "Requirement already satisfied: itsdangerous>=2.0 in /usr/local/lib/python3.10/dist-packages (from flask) (2.2.0)\n",
            "Requirement already satisfied: click>=8.0 in /usr/local/lib/python3.10/dist-packages (from flask) (8.1.7)\n",
            "Requirement already satisfied: wheel<1.0,>=0.23.0 in /usr/local/lib/python3.10/dist-packages (from astunparse>=1.6.0->tensorflow) (0.44.0)\n",
            "Requirement already satisfied: MarkupSafe>=2.0 in /usr/local/lib/python3.10/dist-packages (from Jinja2>=3.0->flask) (2.1.5)\n",
            "Requirement already satisfied: rich in /usr/local/lib/python3.10/dist-packages (from keras>=3.2.0->tensorflow) (13.8.0)\n",
            "Requirement already satisfied: namex in /usr/local/lib/python3.10/dist-packages (from keras>=3.2.0->tensorflow) (0.0.8)\n",
            "Requirement already satisfied: optree in /usr/local/lib/python3.10/dist-packages (from keras>=3.2.0->tensorflow) (0.12.1)\n",
            "Requirement already satisfied: charset-normalizer<4,>=2 in /usr/local/lib/python3.10/dist-packages (from requests<3,>=2.21.0->tensorflow) (3.3.2)\n",
            "Requirement already satisfied: idna<4,>=2.5 in /usr/local/lib/python3.10/dist-packages (from requests<3,>=2.21.0->tensorflow) (3.8)\n",
            "Requirement already satisfied: urllib3<3,>=1.21.1 in /usr/local/lib/python3.10/dist-packages (from requests<3,>=2.21.0->tensorflow) (2.0.7)\n",
            "Requirement already satisfied: certifi>=2017.4.17 in /usr/local/lib/python3.10/dist-packages (from requests<3,>=2.21.0->tensorflow) (2024.8.30)\n",
            "Requirement already satisfied: markdown>=2.6.8 in /usr/local/lib/python3.10/dist-packages (from tensorboard<2.18,>=2.17->tensorflow) (3.7)\n",
            "Requirement already satisfied: tensorboard-data-server<0.8.0,>=0.7.0 in /usr/local/lib/python3.10/dist-packages (from tensorboard<2.18,>=2.17->tensorflow) (0.7.2)\n",
            "Requirement already satisfied: markdown-it-py>=2.2.0 in /usr/local/lib/python3.10/dist-packages (from rich->keras>=3.2.0->tensorflow) (3.0.0)\n",
            "Requirement already satisfied: pygments<3.0.0,>=2.13.0 in /usr/local/lib/python3.10/dist-packages (from rich->keras>=3.2.0->tensorflow) (2.16.1)\n",
            "Requirement already satisfied: mdurl~=0.1 in /usr/local/lib/python3.10/dist-packages (from markdown-it-py>=2.2.0->rich->keras>=3.2.0->tensorflow) (0.1.2)\n"
          ]
        }
      ],
      "source": [
        "pip install pandas numpy scikit-learn tensorflow flask\n"
      ]
    },
    {
      "cell_type": "markdown",
      "source": [
        "Load the Dataset"
      ],
      "metadata": {
        "id": "p6C1Sn6Day_x"
      }
    },
    {
      "cell_type": "code",
      "source": [
        "import pandas as pd\n",
        "\n",
        "# Load the dataset\n",
        "df = pd.read_csv('/content/all-sensors-16.csv')\n",
        "\n",
        "# Display the first few rows of the data\n",
        "print(df.head())\n"
      ],
      "metadata": {
        "colab": {
          "base_uri": "https://localhost:8080/"
        },
        "id": "LDmmPjnnbwdr",
        "outputId": "42e808d2-ab41-4733-880a-759b7a5163b9"
      },
      "execution_count": 2,
      "outputs": [
        {
          "output_type": "stream",
          "name": "stdout",
          "text": [
            "  Local Time (Sensor)        Date      Time  \\\n",
            "0    03/06/2019 01:00  03/06/2019  01:00:00   \n",
            "1    03/06/2019 01:00  03/06/2019  01:00:00   \n",
            "2    03/06/2019 01:00  03/06/2019  01:00:00   \n",
            "3    03/06/2019 01:00  03/06/2019  01:00:00   \n",
            "4    03/06/2019 01:00  03/06/2019  01:00:00   \n",
            "\n",
            "                         countlineName direction  Car  Pedestrian  Cyclist  \\\n",
            "0                  S10_EastRoad_CAM003        in   89           9        4   \n",
            "1                  S10_EastRoad_CAM003       out   51           6        0   \n",
            "2  S12_DevonshireRoad_CyclePath_CAM003        in    0           0        0   \n",
            "3  S12_DevonshireRoad_CyclePath_CAM003       out    0           2        0   \n",
            "4                S13_MiltonRoad_CAM003        in   66           2        5   \n",
            "\n",
            "   Motorbike  Bus  OGV1  OGV2  LGV  \n",
            "0          2    1     0     0    5  \n",
            "1          0    0     1     0    1  \n",
            "2          0    0     0     0    0  \n",
            "3          0    0     0     0    0  \n",
            "4          4    0     0     0    4  \n"
          ]
        }
      ]
    },
    {
      "cell_type": "markdown",
      "source": [
        " Preprocess the Data"
      ],
      "metadata": {
        "id": "w77VwBmlcqi8"
      }
    },
    {
      "cell_type": "code",
      "source": [
        "# Drop unnecessary columns\n",
        "df = df.drop(['Local Time (Sensor)', 'Date', 'countlineName', 'direction', 'Time'], axis=1)\n",
        "\n",
        "# Define features (X) and target (y)\n",
        "X = df.drop(columns=['Car'])  # Predicting car volume (Car)\n",
        "y = df['Car']\n"
      ],
      "metadata": {
        "id": "IHEaZIVYcuvc"
      },
      "execution_count": 3,
      "outputs": []
    },
    {
      "cell_type": "markdown",
      "source": [
        "Train-Test Split"
      ],
      "metadata": {
        "id": "K_47ss1ic4_u"
      }
    },
    {
      "cell_type": "code",
      "source": [
        "from sklearn.model_selection import train_test_split\n",
        "\n",
        "# Split data into training and testing sets\n",
        "X_train, X_test, y_train, y_test = train_test_split(X, y, test_size=0.2, random_state=42)\n"
      ],
      "metadata": {
        "id": "7AXZzx3zc3Qs"
      },
      "execution_count": 4,
      "outputs": []
    },
    {
      "cell_type": "markdown",
      "source": [
        "Data Scaling"
      ],
      "metadata": {
        "id": "cIqJScS2c__8"
      }
    },
    {
      "cell_type": "code",
      "source": [
        "from sklearn.preprocessing import StandardScaler\n",
        "\n",
        "# Scale the data\n",
        "scaler = StandardScaler()\n",
        "X_train_scaled = scaler.fit_transform(X_train)\n",
        "X_test_scaled = scaler.transform(X_test)\n"
      ],
      "metadata": {
        "id": "6MXY0HJNdAuQ"
      },
      "execution_count": 5,
      "outputs": []
    },
    {
      "cell_type": "markdown",
      "source": [
        "Build the Baseline Neural Network Model"
      ],
      "metadata": {
        "id": "zXPTH87wdJKc"
      }
    },
    {
      "cell_type": "code",
      "source": [
        "import tensorflow as tf\n",
        "from tensorflow.keras.models import Sequential\n",
        "from tensorflow.keras.layers import Dense\n",
        "\n",
        "# Build the neural network model\n",
        "model = Sequential([\n",
        "    Dense(64, activation='relu', input_shape=(X_train_scaled.shape[1],)),\n",
        "    Dense(32, activation='relu'),\n",
        "    Dense(1)  # Single output for regression\n",
        "])\n",
        "\n",
        "# Compile the model\n",
        "model.compile(optimizer='adam', loss='mean_squared_error', metrics=['mae'])\n",
        "\n",
        "# Train the model\n",
        "history = model.fit(X_train_scaled, y_train, validation_split=0.2, epochs=100, batch_size=32)\n"
      ],
      "metadata": {
        "colab": {
          "base_uri": "https://localhost:8080/"
        },
        "id": "xhZfWfCvdJ2V",
        "outputId": "b7c54a68-cbab-4f54-b49c-2a37f85f9e18"
      },
      "execution_count": 6,
      "outputs": [
        {
          "output_type": "stream",
          "name": "stdout",
          "text": [
            "Epoch 1/100\n"
          ]
        },
        {
          "output_type": "stream",
          "name": "stderr",
          "text": [
            "/usr/local/lib/python3.10/dist-packages/keras/src/layers/core/dense.py:87: UserWarning: Do not pass an `input_shape`/`input_dim` argument to a layer. When using Sequential models, prefer using an `Input(shape)` object as the first layer in the model instead.\n",
            "  super().__init__(activity_regularizer=activity_regularizer, **kwargs)\n"
          ]
        },
        {
          "output_type": "stream",
          "name": "stdout",
          "text": [
            "\u001b[1m10498/10498\u001b[0m \u001b[32m━━━━━━━━━━━━━━━━━━━━\u001b[0m\u001b[37m\u001b[0m \u001b[1m24s\u001b[0m 2ms/step - loss: 6834.9214 - mae: 36.8737 - val_loss: 3604.4399 - val_mae: 26.8478\n",
            "Epoch 2/100\n",
            "\u001b[1m10498/10498\u001b[0m \u001b[32m━━━━━━━━━━━━━━━━━━━━\u001b[0m\u001b[37m\u001b[0m \u001b[1m39s\u001b[0m 2ms/step - loss: 3559.1494 - mae: 28.4374 - val_loss: 3375.7056 - val_mae: 29.5785\n",
            "Epoch 3/100\n",
            "\u001b[1m10498/10498\u001b[0m \u001b[32m━━━━━━━━━━━━━━━━━━━━\u001b[0m\u001b[37m\u001b[0m \u001b[1m45s\u001b[0m 2ms/step - loss: 3414.1658 - mae: 27.9246 - val_loss: 3237.8435 - val_mae: 28.1103\n",
            "Epoch 4/100\n",
            "\u001b[1m10498/10498\u001b[0m \u001b[32m━━━━━━━━━━━━━━━━━━━━\u001b[0m\u001b[37m\u001b[0m \u001b[1m25s\u001b[0m 2ms/step - loss: 3264.7183 - mae: 27.3120 - val_loss: 3182.1973 - val_mae: 27.7840\n",
            "Epoch 5/100\n",
            "\u001b[1m10498/10498\u001b[0m \u001b[32m━━━━━━━━━━━━━━━━━━━━\u001b[0m\u001b[37m\u001b[0m \u001b[1m37s\u001b[0m 2ms/step - loss: 3234.5083 - mae: 27.1190 - val_loss: 3144.2351 - val_mae: 25.9694\n",
            "Epoch 6/100\n",
            "\u001b[1m10498/10498\u001b[0m \u001b[32m━━━━━━━━━━━━━━━━━━━━\u001b[0m\u001b[37m\u001b[0m \u001b[1m42s\u001b[0m 2ms/step - loss: 3210.7676 - mae: 26.8562 - val_loss: 3098.7646 - val_mae: 25.6800\n",
            "Epoch 7/100\n",
            "\u001b[1m10498/10498\u001b[0m \u001b[32m━━━━━━━━━━━━━━━━━━━━\u001b[0m\u001b[37m\u001b[0m \u001b[1m20s\u001b[0m 2ms/step - loss: 3179.0938 - mae: 26.7605 - val_loss: 3088.2522 - val_mae: 24.8286\n",
            "Epoch 8/100\n",
            "\u001b[1m10498/10498\u001b[0m \u001b[32m━━━━━━━━━━━━━━━━━━━━\u001b[0m\u001b[37m\u001b[0m \u001b[1m22s\u001b[0m 2ms/step - loss: 3134.9004 - mae: 26.5297 - val_loss: 3059.4817 - val_mae: 26.3870\n",
            "Epoch 9/100\n",
            "\u001b[1m10498/10498\u001b[0m \u001b[32m━━━━━━━━━━━━━━━━━━━━\u001b[0m\u001b[37m\u001b[0m \u001b[1m40s\u001b[0m 2ms/step - loss: 3094.3420 - mae: 26.3395 - val_loss: 3017.0547 - val_mae: 25.8296\n",
            "Epoch 10/100\n",
            "\u001b[1m10498/10498\u001b[0m \u001b[32m━━━━━━━━━━━━━━━━━━━━\u001b[0m\u001b[37m\u001b[0m \u001b[1m19s\u001b[0m 2ms/step - loss: 3055.4219 - mae: 26.1620 - val_loss: 3006.2759 - val_mae: 27.9093\n",
            "Epoch 11/100\n",
            "\u001b[1m10498/10498\u001b[0m \u001b[32m━━━━━━━━━━━━━━━━━━━━\u001b[0m\u001b[37m\u001b[0m \u001b[1m20s\u001b[0m 2ms/step - loss: 3068.6152 - mae: 26.2172 - val_loss: 2977.5513 - val_mae: 25.5014\n",
            "Epoch 12/100\n",
            "\u001b[1m10498/10498\u001b[0m \u001b[32m━━━━━━━━━━━━━━━━━━━━\u001b[0m\u001b[37m\u001b[0m \u001b[1m20s\u001b[0m 2ms/step - loss: 3024.6582 - mae: 26.0498 - val_loss: 2945.3660 - val_mae: 25.8754\n",
            "Epoch 13/100\n",
            "\u001b[1m10498/10498\u001b[0m \u001b[32m━━━━━━━━━━━━━━━━━━━━\u001b[0m\u001b[37m\u001b[0m \u001b[1m19s\u001b[0m 2ms/step - loss: 3026.2056 - mae: 26.0973 - val_loss: 2938.4275 - val_mae: 26.8743\n",
            "Epoch 14/100\n",
            "\u001b[1m10498/10498\u001b[0m \u001b[32m━━━━━━━━━━━━━━━━━━━━\u001b[0m\u001b[37m\u001b[0m \u001b[1m21s\u001b[0m 2ms/step - loss: 2989.6892 - mae: 25.8874 - val_loss: 2894.4907 - val_mae: 24.7128\n",
            "Epoch 15/100\n",
            "\u001b[1m10498/10498\u001b[0m \u001b[32m━━━━━━━━━━━━━━━━━━━━\u001b[0m\u001b[37m\u001b[0m \u001b[1m22s\u001b[0m 2ms/step - loss: 2970.8511 - mae: 25.8108 - val_loss: 2882.1423 - val_mae: 25.2100\n",
            "Epoch 16/100\n",
            "\u001b[1m10498/10498\u001b[0m \u001b[32m━━━━━━━━━━━━━━━━━━━━\u001b[0m\u001b[37m\u001b[0m \u001b[1m40s\u001b[0m 2ms/step - loss: 2978.0344 - mae: 25.7939 - val_loss: 2898.5828 - val_mae: 25.1872\n",
            "Epoch 17/100\n",
            "\u001b[1m10498/10498\u001b[0m \u001b[32m━━━━━━━━━━━━━━━━━━━━\u001b[0m\u001b[37m\u001b[0m \u001b[1m23s\u001b[0m 2ms/step - loss: 2976.5623 - mae: 25.7307 - val_loss: 2934.8157 - val_mae: 24.3134\n",
            "Epoch 18/100\n",
            "\u001b[1m10498/10498\u001b[0m \u001b[32m━━━━━━━━━━━━━━━━━━━━\u001b[0m\u001b[37m\u001b[0m \u001b[1m19s\u001b[0m 2ms/step - loss: 2937.5342 - mae: 25.6440 - val_loss: 2933.2827 - val_mae: 25.2143\n",
            "Epoch 19/100\n",
            "\u001b[1m10498/10498\u001b[0m \u001b[32m━━━━━━━━━━━━━━━━━━━━\u001b[0m\u001b[37m\u001b[0m \u001b[1m25s\u001b[0m 2ms/step - loss: 2936.3254 - mae: 25.5505 - val_loss: 2870.4646 - val_mae: 24.4846\n",
            "Epoch 20/100\n",
            "\u001b[1m10498/10498\u001b[0m \u001b[32m━━━━━━━━━━━━━━━━━━━━\u001b[0m\u001b[37m\u001b[0m \u001b[1m24s\u001b[0m 2ms/step - loss: 2928.7612 - mae: 25.5313 - val_loss: 2864.1445 - val_mae: 25.8994\n",
            "Epoch 21/100\n",
            "\u001b[1m10498/10498\u001b[0m \u001b[32m━━━━━━━━━━━━━━━━━━━━\u001b[0m\u001b[37m\u001b[0m \u001b[1m39s\u001b[0m 2ms/step - loss: 2928.2546 - mae: 25.5008 - val_loss: 2840.1797 - val_mae: 23.9601\n",
            "Epoch 22/100\n",
            "\u001b[1m10498/10498\u001b[0m \u001b[32m━━━━━━━━━━━━━━━━━━━━\u001b[0m\u001b[37m\u001b[0m \u001b[1m19s\u001b[0m 2ms/step - loss: 2887.0166 - mae: 25.3491 - val_loss: 2833.4829 - val_mae: 26.0801\n",
            "Epoch 23/100\n",
            "\u001b[1m10498/10498\u001b[0m \u001b[32m━━━━━━━━━━━━━━━━━━━━\u001b[0m\u001b[37m\u001b[0m \u001b[1m23s\u001b[0m 2ms/step - loss: 2882.4182 - mae: 25.2612 - val_loss: 2852.2559 - val_mae: 28.0461\n",
            "Epoch 24/100\n",
            "\u001b[1m10498/10498\u001b[0m \u001b[32m━━━━━━━━━━━━━━━━━━━━\u001b[0m\u001b[37m\u001b[0m \u001b[1m40s\u001b[0m 2ms/step - loss: 2894.6426 - mae: 25.3493 - val_loss: 2825.7957 - val_mae: 24.6372\n",
            "Epoch 25/100\n",
            "\u001b[1m10498/10498\u001b[0m \u001b[32m━━━━━━━━━━━━━━━━━━━━\u001b[0m\u001b[37m\u001b[0m \u001b[1m21s\u001b[0m 2ms/step - loss: 2918.8130 - mae: 25.5278 - val_loss: 2846.7512 - val_mae: 24.9615\n",
            "Epoch 26/100\n",
            "\u001b[1m10498/10498\u001b[0m \u001b[32m━━━━━━━━━━━━━━━━━━━━\u001b[0m\u001b[37m\u001b[0m \u001b[1m20s\u001b[0m 2ms/step - loss: 2923.4414 - mae: 25.5102 - val_loss: 2834.8586 - val_mae: 25.3299\n",
            "Epoch 27/100\n",
            "\u001b[1m10498/10498\u001b[0m \u001b[32m━━━━━━━━━━━━━━━━━━━━\u001b[0m\u001b[37m\u001b[0m \u001b[1m19s\u001b[0m 2ms/step - loss: 2863.1277 - mae: 25.2531 - val_loss: 2823.7292 - val_mae: 24.8101\n",
            "Epoch 28/100\n",
            "\u001b[1m10498/10498\u001b[0m \u001b[32m━━━━━━━━━━━━━━━━━━━━\u001b[0m\u001b[37m\u001b[0m \u001b[1m19s\u001b[0m 2ms/step - loss: 2890.3086 - mae: 25.3747 - val_loss: 2836.6680 - val_mae: 25.6882\n",
            "Epoch 29/100\n",
            "\u001b[1m10498/10498\u001b[0m \u001b[32m━━━━━━━━━━━━━━━━━━━━\u001b[0m\u001b[37m\u001b[0m \u001b[1m22s\u001b[0m 2ms/step - loss: 2889.1433 - mae: 25.3365 - val_loss: 2792.0520 - val_mae: 25.6600\n",
            "Epoch 30/100\n",
            "\u001b[1m10498/10498\u001b[0m \u001b[32m━━━━━━━━━━━━━━━━━━━━\u001b[0m\u001b[37m\u001b[0m \u001b[1m19s\u001b[0m 2ms/step - loss: 2847.5588 - mae: 25.3257 - val_loss: 2803.6125 - val_mae: 24.7514\n",
            "Epoch 31/100\n",
            "\u001b[1m10498/10498\u001b[0m \u001b[32m━━━━━━━━━━━━━━━━━━━━\u001b[0m\u001b[37m\u001b[0m \u001b[1m21s\u001b[0m 2ms/step - loss: 2825.4634 - mae: 25.0431 - val_loss: 2781.7520 - val_mae: 23.7686\n",
            "Epoch 32/100\n",
            "\u001b[1m10498/10498\u001b[0m \u001b[32m━━━━━━━━━━━━━━━━━━━━\u001b[0m\u001b[37m\u001b[0m \u001b[1m42s\u001b[0m 2ms/step - loss: 2833.1340 - mae: 25.0806 - val_loss: 2811.4299 - val_mae: 26.6818\n",
            "Epoch 33/100\n",
            "\u001b[1m10498/10498\u001b[0m \u001b[32m━━━━━━━━━━━━━━━━━━━━\u001b[0m\u001b[37m\u001b[0m \u001b[1m19s\u001b[0m 2ms/step - loss: 2846.4780 - mae: 25.1922 - val_loss: 2829.9680 - val_mae: 23.6818\n",
            "Epoch 34/100\n",
            "\u001b[1m10498/10498\u001b[0m \u001b[32m━━━━━━━━━━━━━━━━━━━━\u001b[0m\u001b[37m\u001b[0m \u001b[1m21s\u001b[0m 2ms/step - loss: 2862.8098 - mae: 25.2211 - val_loss: 2781.2000 - val_mae: 26.0381\n",
            "Epoch 35/100\n",
            "\u001b[1m10498/10498\u001b[0m \u001b[32m━━━━━━━━━━━━━━━━━━━━\u001b[0m\u001b[37m\u001b[0m \u001b[1m21s\u001b[0m 2ms/step - loss: 2865.1499 - mae: 25.3014 - val_loss: 2770.8579 - val_mae: 25.5651\n",
            "Epoch 36/100\n",
            "\u001b[1m10498/10498\u001b[0m \u001b[32m━━━━━━━━━━━━━━━━━━━━\u001b[0m\u001b[37m\u001b[0m \u001b[1m19s\u001b[0m 2ms/step - loss: 2808.8777 - mae: 24.9963 - val_loss: 2754.1021 - val_mae: 24.1695\n",
            "Epoch 37/100\n",
            "\u001b[1m10498/10498\u001b[0m \u001b[32m━━━━━━━━━━━━━━━━━━━━\u001b[0m\u001b[37m\u001b[0m \u001b[1m21s\u001b[0m 2ms/step - loss: 2832.7510 - mae: 25.0611 - val_loss: 2786.2288 - val_mae: 23.9018\n",
            "Epoch 38/100\n",
            "\u001b[1m10498/10498\u001b[0m \u001b[32m━━━━━━━━━━━━━━━━━━━━\u001b[0m\u001b[37m\u001b[0m \u001b[1m19s\u001b[0m 2ms/step - loss: 2847.2273 - mae: 25.1369 - val_loss: 2762.9089 - val_mae: 25.8862\n",
            "Epoch 39/100\n",
            "\u001b[1m10498/10498\u001b[0m \u001b[32m━━━━━━━━━━━━━━━━━━━━\u001b[0m\u001b[37m\u001b[0m \u001b[1m22s\u001b[0m 2ms/step - loss: 2825.1177 - mae: 25.0848 - val_loss: 2762.7417 - val_mae: 23.4818\n",
            "Epoch 40/100\n",
            "\u001b[1m10498/10498\u001b[0m \u001b[32m━━━━━━━━━━━━━━━━━━━━\u001b[0m\u001b[37m\u001b[0m \u001b[1m19s\u001b[0m 2ms/step - loss: 2839.1736 - mae: 25.1652 - val_loss: 2778.3506 - val_mae: 23.8414\n",
            "Epoch 41/100\n",
            "\u001b[1m10498/10498\u001b[0m \u001b[32m━━━━━━━━━━━━━━━━━━━━\u001b[0m\u001b[37m\u001b[0m \u001b[1m23s\u001b[0m 2ms/step - loss: 2840.9731 - mae: 25.2248 - val_loss: 2738.3481 - val_mae: 25.3008\n",
            "Epoch 42/100\n",
            "\u001b[1m10498/10498\u001b[0m \u001b[32m━━━━━━━━━━━━━━━━━━━━\u001b[0m\u001b[37m\u001b[0m \u001b[1m41s\u001b[0m 2ms/step - loss: 2845.9978 - mae: 25.2280 - val_loss: 2826.4817 - val_mae: 28.1321\n",
            "Epoch 43/100\n",
            "\u001b[1m10498/10498\u001b[0m \u001b[32m━━━━━━━━━━━━━━━━━━━━\u001b[0m\u001b[37m\u001b[0m \u001b[1m19s\u001b[0m 2ms/step - loss: 2802.5020 - mae: 24.9720 - val_loss: 2741.3286 - val_mae: 23.5507\n",
            "Epoch 44/100\n",
            "\u001b[1m10498/10498\u001b[0m \u001b[32m━━━━━━━━━━━━━━━━━━━━\u001b[0m\u001b[37m\u001b[0m \u001b[1m24s\u001b[0m 2ms/step - loss: 2793.3413 - mae: 25.0390 - val_loss: 2736.0186 - val_mae: 23.5914\n",
            "Epoch 45/100\n",
            "\u001b[1m10498/10498\u001b[0m \u001b[32m━━━━━━━━━━━━━━━━━━━━\u001b[0m\u001b[37m\u001b[0m \u001b[1m19s\u001b[0m 2ms/step - loss: 2807.5010 - mae: 25.0464 - val_loss: 2740.9375 - val_mae: 24.8620\n",
            "Epoch 46/100\n",
            "\u001b[1m10498/10498\u001b[0m \u001b[32m━━━━━━━━━━━━━━━━━━━━\u001b[0m\u001b[37m\u001b[0m \u001b[1m22s\u001b[0m 2ms/step - loss: 2793.0620 - mae: 24.9217 - val_loss: 2733.7334 - val_mae: 24.0951\n",
            "Epoch 47/100\n",
            "\u001b[1m10498/10498\u001b[0m \u001b[32m━━━━━━━━━━━━━━━━━━━━\u001b[0m\u001b[37m\u001b[0m \u001b[1m41s\u001b[0m 2ms/step - loss: 2818.8701 - mae: 25.1850 - val_loss: 2768.9067 - val_mae: 26.2067\n",
            "Epoch 48/100\n",
            "\u001b[1m10498/10498\u001b[0m \u001b[32m━━━━━━━━━━━━━━━━━━━━\u001b[0m\u001b[37m\u001b[0m \u001b[1m19s\u001b[0m 2ms/step - loss: 2791.2896 - mae: 24.9779 - val_loss: 2739.1519 - val_mae: 23.9417\n",
            "Epoch 49/100\n",
            "\u001b[1m10498/10498\u001b[0m \u001b[32m━━━━━━━━━━━━━━━━━━━━\u001b[0m\u001b[37m\u001b[0m \u001b[1m19s\u001b[0m 2ms/step - loss: 2782.6453 - mae: 24.9477 - val_loss: 2737.5247 - val_mae: 26.3338\n",
            "Epoch 50/100\n",
            "\u001b[1m10498/10498\u001b[0m \u001b[32m━━━━━━━━━━━━━━━━━━━━\u001b[0m\u001b[37m\u001b[0m \u001b[1m20s\u001b[0m 2ms/step - loss: 2808.1738 - mae: 25.1386 - val_loss: 2746.8325 - val_mae: 23.4370\n",
            "Epoch 51/100\n",
            "\u001b[1m10498/10498\u001b[0m \u001b[32m━━━━━━━━━━━━━━━━━━━━\u001b[0m\u001b[37m\u001b[0m \u001b[1m19s\u001b[0m 2ms/step - loss: 2776.1995 - mae: 24.9530 - val_loss: 2772.4573 - val_mae: 23.6495\n",
            "Epoch 52/100\n",
            "\u001b[1m10498/10498\u001b[0m \u001b[32m━━━━━━━━━━━━━━━━━━━━\u001b[0m\u001b[37m\u001b[0m \u001b[1m22s\u001b[0m 2ms/step - loss: 2800.5513 - mae: 25.0962 - val_loss: 2731.0935 - val_mae: 25.5111\n",
            "Epoch 53/100\n",
            "\u001b[1m10498/10498\u001b[0m \u001b[32m━━━━━━━━━━━━━━━━━━━━\u001b[0m\u001b[37m\u001b[0m \u001b[1m19s\u001b[0m 2ms/step - loss: 2777.7004 - mae: 24.9950 - val_loss: 2755.0208 - val_mae: 24.3057\n",
            "Epoch 54/100\n",
            "\u001b[1m10498/10498\u001b[0m \u001b[32m━━━━━━━━━━━━━━━━━━━━\u001b[0m\u001b[37m\u001b[0m \u001b[1m21s\u001b[0m 2ms/step - loss: 2789.3257 - mae: 24.9556 - val_loss: 2720.9011 - val_mae: 23.9291\n",
            "Epoch 55/100\n",
            "\u001b[1m10498/10498\u001b[0m \u001b[32m━━━━━━━━━━━━━━━━━━━━\u001b[0m\u001b[37m\u001b[0m \u001b[1m20s\u001b[0m 2ms/step - loss: 2773.5071 - mae: 24.9125 - val_loss: 2731.1436 - val_mae: 25.3422\n",
            "Epoch 56/100\n",
            "\u001b[1m10498/10498\u001b[0m \u001b[32m━━━━━━━━━━━━━━━━━━━━\u001b[0m\u001b[37m\u001b[0m \u001b[1m19s\u001b[0m 2ms/step - loss: 2790.0789 - mae: 24.9436 - val_loss: 2733.7805 - val_mae: 24.3698\n",
            "Epoch 57/100\n",
            "\u001b[1m10498/10498\u001b[0m \u001b[32m━━━━━━━━━━━━━━━━━━━━\u001b[0m\u001b[37m\u001b[0m \u001b[1m21s\u001b[0m 2ms/step - loss: 2810.1772 - mae: 24.9992 - val_loss: 2729.5273 - val_mae: 23.4311\n",
            "Epoch 58/100\n",
            "\u001b[1m10498/10498\u001b[0m \u001b[32m━━━━━━━━━━━━━━━━━━━━\u001b[0m\u001b[37m\u001b[0m \u001b[1m40s\u001b[0m 2ms/step - loss: 2780.9685 - mae: 24.8761 - val_loss: 2767.4392 - val_mae: 25.4416\n",
            "Epoch 59/100\n",
            "\u001b[1m10498/10498\u001b[0m \u001b[32m━━━━━━━━━━━━━━━━━━━━\u001b[0m\u001b[37m\u001b[0m \u001b[1m19s\u001b[0m 2ms/step - loss: 2779.5068 - mae: 25.0108 - val_loss: 2703.8701 - val_mae: 23.7368\n",
            "Epoch 60/100\n",
            "\u001b[1m10498/10498\u001b[0m \u001b[32m━━━━━━━━━━━━━━━━━━━━\u001b[0m\u001b[37m\u001b[0m \u001b[1m23s\u001b[0m 2ms/step - loss: 2731.8491 - mae: 24.7964 - val_loss: 2717.6252 - val_mae: 25.8668\n",
            "Epoch 61/100\n",
            "\u001b[1m10498/10498\u001b[0m \u001b[32m━━━━━━━━━━━━━━━━━━━━\u001b[0m\u001b[37m\u001b[0m \u001b[1m19s\u001b[0m 2ms/step - loss: 2762.1462 - mae: 24.7661 - val_loss: 2716.3352 - val_mae: 24.5875\n",
            "Epoch 62/100\n",
            "\u001b[1m10498/10498\u001b[0m \u001b[32m━━━━━━━━━━━━━━━━━━━━\u001b[0m\u001b[37m\u001b[0m \u001b[1m22s\u001b[0m 2ms/step - loss: 2779.9592 - mae: 24.9048 - val_loss: 2743.4885 - val_mae: 25.4124\n",
            "Epoch 63/100\n",
            "\u001b[1m10498/10498\u001b[0m \u001b[32m━━━━━━━━━━━━━━━━━━━━\u001b[0m\u001b[37m\u001b[0m \u001b[1m19s\u001b[0m 2ms/step - loss: 2789.6697 - mae: 25.0889 - val_loss: 2730.6477 - val_mae: 23.5587\n",
            "Epoch 64/100\n",
            "\u001b[1m10498/10498\u001b[0m \u001b[32m━━━━━━━━━━━━━━━━━━━━\u001b[0m\u001b[37m\u001b[0m \u001b[1m22s\u001b[0m 2ms/step - loss: 2734.8479 - mae: 24.7834 - val_loss: 2717.1890 - val_mae: 26.4486\n",
            "Epoch 65/100\n",
            "\u001b[1m10498/10498\u001b[0m \u001b[32m━━━━━━━━━━━━━━━━━━━━\u001b[0m\u001b[37m\u001b[0m \u001b[1m20s\u001b[0m 2ms/step - loss: 2769.3262 - mae: 24.9569 - val_loss: 2726.2207 - val_mae: 24.4714\n",
            "Epoch 66/100\n",
            "\u001b[1m10498/10498\u001b[0m \u001b[32m━━━━━━━━━━━━━━━━━━━━\u001b[0m\u001b[37m\u001b[0m \u001b[1m20s\u001b[0m 2ms/step - loss: 2720.8337 - mae: 24.6899 - val_loss: 2714.6313 - val_mae: 24.5558\n",
            "Epoch 67/100\n",
            "\u001b[1m10498/10498\u001b[0m \u001b[32m━━━━━━━━━━━━━━━━━━━━\u001b[0m\u001b[37m\u001b[0m \u001b[1m22s\u001b[0m 2ms/step - loss: 2754.5813 - mae: 24.8784 - val_loss: 2697.0176 - val_mae: 23.7133\n",
            "Epoch 68/100\n",
            "\u001b[1m10498/10498\u001b[0m \u001b[32m━━━━━━━━━━━━━━━━━━━━\u001b[0m\u001b[37m\u001b[0m \u001b[1m19s\u001b[0m 2ms/step - loss: 2757.8796 - mae: 24.8673 - val_loss: 2708.1304 - val_mae: 24.0447\n",
            "Epoch 69/100\n",
            "\u001b[1m10498/10498\u001b[0m \u001b[32m━━━━━━━━━━━━━━━━━━━━\u001b[0m\u001b[37m\u001b[0m \u001b[1m21s\u001b[0m 2ms/step - loss: 2728.3804 - mae: 24.6603 - val_loss: 2801.8057 - val_mae: 23.8931\n",
            "Epoch 70/100\n",
            "\u001b[1m10498/10498\u001b[0m \u001b[32m━━━━━━━━━━━━━━━━━━━━\u001b[0m\u001b[37m\u001b[0m \u001b[1m40s\u001b[0m 2ms/step - loss: 2756.3645 - mae: 24.7545 - val_loss: 2695.5935 - val_mae: 23.9039\n",
            "Epoch 71/100\n",
            "\u001b[1m10498/10498\u001b[0m \u001b[32m━━━━━━━━━━━━━━━━━━━━\u001b[0m\u001b[37m\u001b[0m \u001b[1m19s\u001b[0m 2ms/step - loss: 2739.8428 - mae: 24.7650 - val_loss: 2689.4092 - val_mae: 23.5010\n",
            "Epoch 72/100\n",
            "\u001b[1m10498/10498\u001b[0m \u001b[32m━━━━━━━━━━━━━━━━━━━━\u001b[0m\u001b[37m\u001b[0m \u001b[1m21s\u001b[0m 2ms/step - loss: 2775.0825 - mae: 24.8963 - val_loss: 2688.5874 - val_mae: 23.7158\n",
            "Epoch 73/100\n",
            "\u001b[1m10498/10498\u001b[0m \u001b[32m━━━━━━━━━━━━━━━━━━━━\u001b[0m\u001b[37m\u001b[0m \u001b[1m22s\u001b[0m 2ms/step - loss: 2757.5527 - mae: 24.8600 - val_loss: 2695.4868 - val_mae: 23.1445\n",
            "Epoch 74/100\n",
            "\u001b[1m10498/10498\u001b[0m \u001b[32m━━━━━━━━━━━━━━━━━━━━\u001b[0m\u001b[37m\u001b[0m \u001b[1m20s\u001b[0m 2ms/step - loss: 2752.8254 - mae: 24.7656 - val_loss: 2726.2644 - val_mae: 26.3678\n",
            "Epoch 75/100\n",
            "\u001b[1m10498/10498\u001b[0m \u001b[32m━━━━━━━━━━━━━━━━━━━━\u001b[0m\u001b[37m\u001b[0m \u001b[1m20s\u001b[0m 2ms/step - loss: 2758.3733 - mae: 24.7574 - val_loss: 2713.6492 - val_mae: 25.3904\n",
            "Epoch 76/100\n",
            "\u001b[1m10498/10498\u001b[0m \u001b[32m━━━━━━━━━━━━━━━━━━━━\u001b[0m\u001b[37m\u001b[0m \u001b[1m23s\u001b[0m 2ms/step - loss: 2791.8782 - mae: 24.9748 - val_loss: 2691.3296 - val_mae: 24.6091\n",
            "Epoch 77/100\n",
            "\u001b[1m10498/10498\u001b[0m \u001b[32m━━━━━━━━━━━━━━━━━━━━\u001b[0m\u001b[37m\u001b[0m \u001b[1m41s\u001b[0m 2ms/step - loss: 2755.5747 - mae: 24.9072 - val_loss: 2712.9810 - val_mae: 23.5221\n",
            "Epoch 78/100\n",
            "\u001b[1m10498/10498\u001b[0m \u001b[32m━━━━━━━━━━━━━━━━━━━━\u001b[0m\u001b[37m\u001b[0m \u001b[1m19s\u001b[0m 2ms/step - loss: 2695.8931 - mae: 24.4323 - val_loss: 2705.0520 - val_mae: 26.6533\n",
            "Epoch 79/100\n",
            "\u001b[1m10498/10498\u001b[0m \u001b[32m━━━━━━━━━━━━━━━━━━━━\u001b[0m\u001b[37m\u001b[0m \u001b[1m19s\u001b[0m 2ms/step - loss: 2720.9783 - mae: 24.5958 - val_loss: 2691.1404 - val_mae: 24.5540\n",
            "Epoch 80/100\n",
            "\u001b[1m10498/10498\u001b[0m \u001b[32m━━━━━━━━━━━━━━━━━━━━\u001b[0m\u001b[37m\u001b[0m \u001b[1m21s\u001b[0m 2ms/step - loss: 2720.8472 - mae: 24.4809 - val_loss: 2745.5005 - val_mae: 28.1929\n",
            "Epoch 81/100\n",
            "\u001b[1m10498/10498\u001b[0m \u001b[32m━━━━━━━━━━━━━━━━━━━━\u001b[0m\u001b[37m\u001b[0m \u001b[1m19s\u001b[0m 2ms/step - loss: 2717.2371 - mae: 24.5303 - val_loss: 2696.1541 - val_mae: 23.5908\n",
            "Epoch 82/100\n",
            "\u001b[1m10498/10498\u001b[0m \u001b[32m━━━━━━━━━━━━━━━━━━━━\u001b[0m\u001b[37m\u001b[0m \u001b[1m23s\u001b[0m 2ms/step - loss: 2736.2373 - mae: 24.6576 - val_loss: 2712.9670 - val_mae: 24.0348\n",
            "Epoch 83/100\n",
            "\u001b[1m10498/10498\u001b[0m \u001b[32m━━━━━━━━━━━━━━━━━━━━\u001b[0m\u001b[37m\u001b[0m \u001b[1m41s\u001b[0m 2ms/step - loss: 2719.6987 - mae: 24.4527 - val_loss: 2670.0598 - val_mae: 23.1597\n",
            "Epoch 84/100\n",
            "\u001b[1m10498/10498\u001b[0m \u001b[32m━━━━━━━━━━━━━━━━━━━━\u001b[0m\u001b[37m\u001b[0m \u001b[1m19s\u001b[0m 2ms/step - loss: 2743.3811 - mae: 24.5174 - val_loss: 2685.7349 - val_mae: 25.4418\n",
            "Epoch 85/100\n",
            "\u001b[1m10498/10498\u001b[0m \u001b[32m━━━━━━━━━━━━━━━━━━━━\u001b[0m\u001b[37m\u001b[0m \u001b[1m22s\u001b[0m 2ms/step - loss: 2765.3997 - mae: 24.6475 - val_loss: 2695.6179 - val_mae: 24.1130\n",
            "Epoch 86/100\n",
            "\u001b[1m10498/10498\u001b[0m \u001b[32m━━━━━━━━━━━━━━━━━━━━\u001b[0m\u001b[37m\u001b[0m \u001b[1m19s\u001b[0m 2ms/step - loss: 2739.6453 - mae: 24.6964 - val_loss: 2698.5269 - val_mae: 23.6229\n",
            "Epoch 87/100\n",
            "\u001b[1m10498/10498\u001b[0m \u001b[32m━━━━━━━━━━━━━━━━━━━━\u001b[0m\u001b[37m\u001b[0m \u001b[1m21s\u001b[0m 2ms/step - loss: 2726.0513 - mae: 24.5989 - val_loss: 2675.0383 - val_mae: 24.8667\n",
            "Epoch 88/100\n",
            "\u001b[1m10498/10498\u001b[0m \u001b[32m━━━━━━━━━━━━━━━━━━━━\u001b[0m\u001b[37m\u001b[0m \u001b[1m19s\u001b[0m 2ms/step - loss: 2726.8857 - mae: 24.4228 - val_loss: 2683.7942 - val_mae: 24.5610\n",
            "Epoch 89/100\n",
            "\u001b[1m10498/10498\u001b[0m \u001b[32m━━━━━━━━━━━━━━━━━━━━\u001b[0m\u001b[37m\u001b[0m \u001b[1m23s\u001b[0m 2ms/step - loss: 2696.0474 - mae: 24.3947 - val_loss: 2676.0164 - val_mae: 24.7071\n",
            "Epoch 90/100\n",
            "\u001b[1m10498/10498\u001b[0m \u001b[32m━━━━━━━━━━━━━━━━━━━━\u001b[0m\u001b[37m\u001b[0m \u001b[1m41s\u001b[0m 2ms/step - loss: 2746.5977 - mae: 24.6024 - val_loss: 2685.8809 - val_mae: 25.4823\n",
            "Epoch 91/100\n",
            "\u001b[1m10498/10498\u001b[0m \u001b[32m━━━━━━━━━━━━━━━━━━━━\u001b[0m\u001b[37m\u001b[0m \u001b[1m19s\u001b[0m 2ms/step - loss: 2689.9124 - mae: 24.4459 - val_loss: 2669.8323 - val_mae: 24.1297\n",
            "Epoch 92/100\n",
            "\u001b[1m10498/10498\u001b[0m \u001b[32m━━━━━━━━━━━━━━━━━━━━\u001b[0m\u001b[37m\u001b[0m \u001b[1m24s\u001b[0m 2ms/step - loss: 2697.4014 - mae: 24.2541 - val_loss: 2710.1221 - val_mae: 23.4805\n",
            "Epoch 93/100\n",
            "\u001b[1m10498/10498\u001b[0m \u001b[32m━━━━━━━━━━━━━━━━━━━━\u001b[0m\u001b[37m\u001b[0m \u001b[1m19s\u001b[0m 2ms/step - loss: 2710.4187 - mae: 24.4658 - val_loss: 2651.2466 - val_mae: 23.1687\n",
            "Epoch 94/100\n",
            "\u001b[1m10498/10498\u001b[0m \u001b[32m━━━━━━━━━━━━━━━━━━━━\u001b[0m\u001b[37m\u001b[0m \u001b[1m23s\u001b[0m 2ms/step - loss: 2720.3840 - mae: 24.4660 - val_loss: 2689.2175 - val_mae: 25.1613\n",
            "Epoch 95/100\n",
            "\u001b[1m10498/10498\u001b[0m \u001b[32m━━━━━━━━━━━━━━━━━━━━\u001b[0m\u001b[37m\u001b[0m \u001b[1m40s\u001b[0m 2ms/step - loss: 2729.8682 - mae: 24.5114 - val_loss: 2650.5845 - val_mae: 23.5988\n",
            "Epoch 96/100\n",
            "\u001b[1m10498/10498\u001b[0m \u001b[32m━━━━━━━━━━━━━━━━━━━━\u001b[0m\u001b[37m\u001b[0m \u001b[1m19s\u001b[0m 2ms/step - loss: 2714.0696 - mae: 24.3847 - val_loss: 2649.8699 - val_mae: 24.0345\n",
            "Epoch 97/100\n",
            "\u001b[1m10498/10498\u001b[0m \u001b[32m━━━━━━━━━━━━━━━━━━━━\u001b[0m\u001b[37m\u001b[0m \u001b[1m19s\u001b[0m 2ms/step - loss: 2704.2080 - mae: 24.3795 - val_loss: 2698.6721 - val_mae: 26.9166\n",
            "Epoch 98/100\n",
            "\u001b[1m10498/10498\u001b[0m \u001b[32m━━━━━━━━━━━━━━━━━━━━\u001b[0m\u001b[37m\u001b[0m \u001b[1m22s\u001b[0m 2ms/step - loss: 2687.8777 - mae: 24.2448 - val_loss: 2639.6450 - val_mae: 22.7319\n",
            "Epoch 99/100\n",
            "\u001b[1m10498/10498\u001b[0m \u001b[32m━━━━━━━━━━━━━━━━━━━━\u001b[0m\u001b[37m\u001b[0m \u001b[1m42s\u001b[0m 2ms/step - loss: 2688.4033 - mae: 24.1615 - val_loss: 2672.0359 - val_mae: 24.8569\n",
            "Epoch 100/100\n",
            "\u001b[1m10498/10498\u001b[0m \u001b[32m━━━━━━━━━━━━━━━━━━━━\u001b[0m\u001b[37m\u001b[0m \u001b[1m19s\u001b[0m 2ms/step - loss: 2702.1917 - mae: 24.2859 - val_loss: 2651.9670 - val_mae: 25.5797\n"
          ]
        }
      ]
    },
    {
      "cell_type": "markdown",
      "source": [
        " Evaluate the Model"
      ],
      "metadata": {
        "id": "r1p3ta2gde4Y"
      }
    },
    {
      "cell_type": "code",
      "source": [
        "# Evaluate on test data\n",
        "test_loss, test_mae = model.evaluate(X_test_scaled, y_test)\n",
        "print(f\"Test MAE: {test_mae}\")\n"
      ],
      "metadata": {
        "colab": {
          "base_uri": "https://localhost:8080/"
        },
        "id": "9PQD4FsXdgJi",
        "outputId": "f6e8cc6c-3c84-4efd-885f-bc2062c076dd"
      },
      "execution_count": 7,
      "outputs": [
        {
          "output_type": "stream",
          "name": "stdout",
          "text": [
            "\u001b[1m3281/3281\u001b[0m \u001b[32m━━━━━━━━━━━━━━━━━━━━\u001b[0m\u001b[37m\u001b[0m \u001b[1m4s\u001b[0m 1ms/step - loss: 2669.1533 - mae: 25.6341\n",
            "Test MAE: 25.785261154174805\n"
          ]
        }
      ]
    },
    {
      "cell_type": "markdown",
      "source": [
        "Save the Trained Model"
      ],
      "metadata": {
        "id": "_P-T6Y13dlFp"
      }
    },
    {
      "cell_type": "code",
      "source": [
        "# Save the model\n",
        "model.save('traffic_volume_model.h5')\n"
      ],
      "metadata": {
        "colab": {
          "base_uri": "https://localhost:8080/"
        },
        "id": "gzDJIaSNdl5D",
        "outputId": "946eb39c-7fd1-4c71-a05c-d3c03ad765e1"
      },
      "execution_count": 8,
      "outputs": [
        {
          "output_type": "stream",
          "name": "stderr",
          "text": [
            "WARNING:absl:You are saving your model as an HDF5 file via `model.save()` or `keras.saving.save_model(model)`. This file format is considered legacy. We recommend using instead the native Keras format, e.g. `model.save('my_model.keras')` or `keras.saving.save_model(model, 'my_model.keras')`. \n"
          ]
        }
      ]
    },
    {
      "cell_type": "markdown",
      "source": [
        "Track Training and Validation Metrics"
      ],
      "metadata": {
        "id": "_8dDpjWHoLWK"
      }
    },
    {
      "cell_type": "code",
      "source": [
        "import matplotlib.pyplot as plt\n",
        "\n",
        "# Plot training & validation loss values\n",
        "plt.figure(figsize=(12, 5))\n",
        "\n",
        "plt.subplot(1, 2, 1)\n",
        "plt.plot(history.history['loss'])\n",
        "plt.plot(history.history['val_loss'])\n",
        "plt.title('Model Loss')\n",
        "plt.xlabel('Epoch')\n",
        "plt.ylabel('Loss')\n",
        "plt.legend(['Train', 'Validation'])\n",
        "\n",
        "# Plot training & validation MAE values\n",
        "plt.subplot(1, 2, 2)\n",
        "plt.plot(history.history['mae'])\n",
        "plt.plot(history.history['val_mae'])\n",
        "plt.title('Model MAE')\n",
        "plt.xlabel('Epoch')\n",
        "plt.ylabel('Mean Absolute Error')\n",
        "plt.legend(['Train', 'Validation'])\n",
        "\n",
        "plt.show()\n"
      ],
      "metadata": {
        "colab": {
          "base_uri": "https://localhost:8080/",
          "height": 487
        },
        "id": "WLHVXt_CoMAe",
        "outputId": "f9b2130a-a7f3-4969-fa2f-969770195a33"
      },
      "execution_count": 9,
      "outputs": [
        {
          "output_type": "display_data",
          "data": {
            "text/plain": [
              "<Figure size 1200x500 with 2 Axes>"
            ],
            "image/png": "[encoded data removed]"
          },
          "metadata": {}
        }
      ]
    },
    {
      "cell_type": "code",
      "source": [
        "# Evaluate on training data\n",
        "train_loss, train_mae = model.evaluate(X_train_scaled, y_train)\n",
        "print(f\"Training Loss: {train_loss}\")\n",
        "print(f\"Training MAE: {train_mae}\")\n",
        "\n",
        "# Evaluate on test data (validation set)\n",
        "test_loss, test_mae = model.evaluate(X_test_scaled, y_test)\n",
        "print(f\"Test Loss: {test_loss}\")\n",
        "print(f\"Test MAE: {test_mae}\")"
      ],
      "metadata": {
        "colab": {
          "base_uri": "https://localhost:8080/"
        },
        "id": "U2dZCUuQoTQL",
        "outputId": "703456b4-d0be-48f2-90f5-1db2daac4cb9"
      },
      "execution_count": 10,
      "outputs": [
        {
          "output_type": "stream",
          "name": "stdout",
          "text": [
            "\u001b[1m13122/13122\u001b[0m \u001b[32m━━━━━━━━━━━━━━━━━━━━\u001b[0m\u001b[37m\u001b[0m \u001b[1m16s\u001b[0m 1ms/step - loss: 2708.8755 - mae: 25.8535\n",
            "Training Loss: 2673.9521484375\n",
            "Training MAE: 25.669086456298828\n",
            "\u001b[1m3281/3281\u001b[0m \u001b[32m━━━━━━━━━━━━━━━━━━━━\u001b[0m\u001b[37m\u001b[0m \u001b[1m3s\u001b[0m 1ms/step - loss: 2669.1533 - mae: 25.6341\n",
            "Test Loss: 2701.42529296875\n",
            "Test MAE: 25.785261154174805\n"
          ]
        }
      ]
    },
    {
      "cell_type": "code",
      "source": [
        "from tensorflow.keras.regularizers import l2\n",
        "model = Sequential([\n",
        "    Dense(64, activation='relu', input_shape=(X_train_scaled.shape[1],), kernel_regularizer=l2(0.01)),\n",
        "    Dense(32, activation='relu', kernel_regularizer=l2(0.01)),\n",
        "    Dense(1)\n",
        "])\n"
      ],
      "metadata": {
        "id": "wKbd-ubFpnn_"
      },
      "execution_count": 13,
      "outputs": []
    },
    {
      "cell_type": "code",
      "source": [
        "from tensorflow.keras.layers import Dropout\n",
        "model = Sequential([\n",
        "    Dense(64, activation='relu', input_shape=(X_train_scaled.shape[1],)),\n",
        "    Dropout(0.5),\n",
        "    Dense(32, activation='relu'),\n",
        "    Dropout(0.5),\n",
        "    Dense(1)\n",
        "])\n"
      ],
      "metadata": {
        "id": "3z_dNWYVprQS"
      },
      "execution_count": 14,
      "outputs": []
    },
    {
      "cell_type": "code",
      "source": [
        "# Save the model\n",
        "model.save('traffic_volume_model.h5')\n"
      ],
      "metadata": {
        "colab": {
          "base_uri": "https://localhost:8080/"
        },
        "id": "prx8ndPuqZpK",
        "outputId": "310b8eb5-9858-46f7-cd34-2dc2872ab040"
      },
      "execution_count": 19,
      "outputs": [
        {
          "output_type": "stream",
          "name": "stderr",
          "text": [
            "WARNING:absl:You are saving your model as an HDF5 file via `model.save()` or `keras.saving.save_model(model)`. This file format is considered legacy. We recommend using instead the native Keras format, e.g. `model.save('my_model.keras')` or `keras.saving.save_model(model, 'my_model.keras')`. \n"
          ]
        }
      ]
    },
    {
      "cell_type": "code",
      "source": [],
      "metadata": {
        "id": "sGgPi1cECM-p"
      },
      "execution_count": null,
      "outputs": []
    }
  ]
}